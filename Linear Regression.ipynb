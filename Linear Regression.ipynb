{
 "cells": [
  {
   "cell_type": "markdown",
   "source": [
    "# <div align=\"center\">Linear Regression</div>\n",
    "## <div align=\"center\">Classical and probabilistic approach to Linear Regression</div>\n",
    "In this jupyter notebook I will cover both approaches to Linear Regression. Specifically\n",
    "in the probabilistic approach we will derive the optimal Linear Predictor using\n",
    "MLE, MAP, and Bayes Estimator. For this notebook I will be using the King County\n",
    "House Sales dataset available on Kaggle. The code will not use any machine learning\n",
    "libraries like scikit-learn so that we truly understand the steps.\n",
    "\n",
    "### Overview\n",
    "Linear regression is the process by which we find the optimal vector of weights $\\vec{w}$\n",
    "that best fits the linear predictor\n",
    "$f(\\vec{x})=w_0x_0+w_1x_1+...+w_dx_d=\\sum_{j=0}^d{w_jx_j}=\\vec{w}^Tx$\n",
    "\n",
    "In other words we need to find the vector $\\vec{w}$ that when given any vector $\\vec{x}$\n",
    "will give us the optimal prediction $f(\\vec{x})$. This definition of linear regression will\n",
    "make more sense when I cover the probabilistic approach of linear regression.\n",
    "\n",
    "Linear regression is more easily understood as fitting a line to data. In order to fit\n",
    "a line to data we have to define a cost function that allows us to measure the error between\n",
    "what the actual values of the data are and what our line says they should be (predicted values).\n",
    "\n",
    "#### Cost\n",
    "For this tutorial I will use the squared error cost function but there are a great many cost\n",
    "functions each with their own advantages and disadvantages. The squared error cost function\n",
    "is:\n",
    "\n",
    "$cost = (\\hat{y} - y)^2$\n",
    "\n",
    "where $\\hat{y}$ is the\n",
    "predicted value (value on the line of best fit) and $y$ is the actual value.\n",
    "\n",
    "This is a simple cost function that penalizes larger errors more than small errors\n",
    "since the difference between actual and predicted values is squared.\n",
    "\n",
    "## Classical Approach\n",
    "\n",
    "Our goal with linear regression classical approach is to minimize the cost function. Meaning we want\n",
    "to make the cost as small as possible. We do this by picking the values of the\n",
    "slope, $m$, and the y-intercept $b$, that minimize the cost.\n",
    "\n",
    "Take a look at the following example given the dataset\n",
    "$D = \\{(1, 2), (3, 5), (5, 4), (7, 7)\\}$ and a line $y=x$, with the slope $m=1$ and\n",
    "the y-intercept $b=0$:"
   ],
   "metadata": {
    "collapsed": false,
    "pycharm": {
     "name": "#%% md\n"
    }
   }
  },
  {
   "cell_type": "code",
   "execution_count": 98,
   "outputs": [
    {
     "data": {
      "text/plain": "<Figure size 432x288 with 1 Axes>",
      "image/png": "[encoded data removed]"
     },
     "metadata": {},
     "output_type": "display_data"
    }
   ],
   "source": [
    "import matplotlib.pyplot as plt\n",
    "import seaborn as sns\n",
    "sns.set_theme()\n",
    "\n",
    "x = [1, 3, 5, 7]\n",
    "y = [2, 5, 4, 6]\n",
    "plt.scatter(x, y, label='Actual Value')\n",
    "plt.scatter([1, 3, 5, 7], [1, 3, 5, 7], marker='X', label='Predicted Value', c='g')\n",
    "plt.plot([0, 8], [0, 8], c='r', label='y = x')\n",
    "\n",
    "plt.xlim(xmin=0, xmax=8)\n",
    "plt.ylim(ymin=-1, ymax=9)\n",
    "plt.xlabel('x')\n",
    "plt.ylabel('y')\n",
    "plt.legend(loc='upper left')\n",
    "\n",
    "plt.show()"
   ],
   "metadata": {
    "collapsed": false,
    "pycharm": {
     "name": "#%%\n"
    }
   }
  },
  {
   "cell_type": "markdown",
   "source": [
    "The red line above represents a possible combination of slope $m$ and y-intercept\n",
    "$b$. In the example above the cost is:\n",
    "\n",
    "$cost = (1-2)^2+(3-5)^2+(5-4)^2+(7-6)^2=7$\n",
    "\n",
    "Therefore the red line with slope $m=1$ and y-intercept $b=0$ has a total\n",
    "cost of 7.\n",
    "\n",
    "So the total cost for a given $m$ and $b$  of a line is:\n",
    "\n",
    "$cost=\\sum{((mx+b)-y)^2}$\n",
    "\n",
    "In words, the total cost is the sum of the difference between the predicted and\n",
    "actual values, squared for all values of $x$ and $y$ in the dataset.\n",
    "\n",
    "One way of finding the linear regression of the dataset would be to repeat the process\n",
    "over and over again until we find the values of $m$ and $b$ that give the smallest\n",
    "possible cost but that would take infinite time since we can always make a smaller increment\n",
    "in $m$ or $b$. Therefore we estimate the minimum cost using Gradient Descent.\n",
    "\n",
    "### Gradient Descent\n",
    "..."
   ],
   "metadata": {
    "collapsed": false,
    "pycharm": {
     "name": "#%% md\n"
    }
   }
  },
  {
   "cell_type": "markdown",
   "source": [
    "## Probabilistic Approach\n",
    "The probabilistic approach is more complicated because it clearly defines the assumptions\n",
    "that we take for granted in the classical approach. I will discuss these at the end.\n",
    "\n",
    "### Deriving Optimal Regressor for Squared Error\n",
    "The first step in the probabilistic approach is to derive an expression for the optimal\n",
    "regressor given the squared error cost function. To do this we have to minimize the expected\n",
    "cost $E[C]$.\n",
    "\n",
    "We begin with the equation for expected cost:\n",
    "\n",
    "$E[C] = \\int_x\\int_{y\\epsilon Y}{cost(\\hat{y} - y)p(\\vec{x},y)}dyd\\vec{x}$\n",
    "\n",
    "In this expression we can plug in our squared error cost function.\n",
    "\n",
    "$E[C] = \\int_x\\int_{y\\epsilon Y}{(\\hat{y} - y)^2p(\\vec{x},y)}dyd\\vec{x}$\n",
    "\n",
    "Then we can split $p(\\vec{x},y)$ into $p(y|\\vec{x})p(\\vec{x})$ to get\n",
    "\n",
    "$E[C] = \\int_xp(\\vec{x})\\int_{y\\epsilon Y}{(\\hat{y} - y)^2p(y|\\vec{x})}dyd\\vec{x}$\n",
    "\n",
    "Since $\\int_{y\\epsilon Y}{(\\hat{y} - y)^2p(y|\\vec{x})}dy$ is equivalent to $E[C|X=\\vec{x}]$\n",
    "we can substitute\n",
    "\n",
    "$E[C]=\\int_xp(\\vec{x})E[C|X=\\vec{x}]d\\vec{x}$\n",
    "\n",
    "Since  $p(\\vec{x})$ is the same for every $C$ the optimal regressor that\n",
    "minimizes $E[C]$ simply minimizes $E[C|X=\\vec{x}]$\n",
    "\n",
    "Therefore to minimize $E[C|X=\\vec{x}]$ we take the derivative and set it equal to 0.\n",
    "Recall that $E[C|X=\\vec{x}]=\\int_{y\\epsilon Y}{(\\hat{y} - y)^2p(y|\\vec{x})}dy=g(\\hat{y})$\n",
    "\n",
    "$arg \\min_{\\hat{y} \\epsilon Y}g(\\hat{y})$ is the same thing as $g'(\\hat{y})=0$\n",
    "\n",
    "$g'(\\hat{y}) = 2\\int_y(\\hat{y}-y)p(y|\\vec{x})dy=0$\n",
    "\n",
    "$g'(\\hat{y})=\\int_y\\hat{y}p(y|\\vec{x})dy - \\int_y(yp(y|\\vec{x})dy=0$\n",
    "\n",
    "$\\int_y\\hat{y}p(y|\\vec{x})dy = \\int_y(yp(y|\\vec{x})dy$\n",
    "\n",
    "Since $\\hat{y}$ is constant relative to $y$ we can pull it out of the integral on the left.\n",
    "\n",
    "$\\hat{y}\\int_yp(y|\\vec{x})dy = \\int_y(yp(y|\\vec{x})dy$\n",
    "\n",
    "Since the probability of all $y$ given a fixed $\\vec{x}$ must equal 1 we have:\n",
    "\n",
    "$\\hat{y}= \\int_y(yp(y|\\vec{x})dy$\n",
    "\n",
    "which matches exactly the definition for the conditional expected value.\n",
    "\n",
    "$\\hat{y}= \\int_y(yp(y|\\vec{x})dy=E[Y|X=\\vec{x}]$\n",
    "\n",
    "Thus we have minimized the expected cost."
   ],
   "metadata": {
    "collapsed": false
   }
  }
 ],
 "metadata": {
  "kernelspec": {
   "display_name": "Python 3",
   "language": "python",
   "name": "python3"
  },
  "language_info": {
   "codemirror_mode": {
    "name": "ipython",
    "version": 2
   },
   "file_extension": ".py",
   "mimetype": "text/x-python",
   "name": "python",
   "nbconvert_exporter": "python",
   "pygments_lexer": "ipython2",
   "version": "2.7.6"
  }
 },
 "nbformat": 4,
 "nbformat_minor": 0
}