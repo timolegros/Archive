{
 "cells": [
  {
   "cell_type": "code",
   "execution_count": 500,
   "metadata": {
    "collapsed": true
   },
   "outputs": [
    {
     "data": {
      "text/plain": "   id   choice  education  household  commute     type1     type2     type3  \\\n0   1  choice5          1          0        0  sportcar     truck  sportcar   \n1   2  choice5          1          1        1   sportuv  sportcar   sportuv   \n2   3  choice5          1          0        0    regcar   stwagon    regcar   \n3   4  choice4          1          0        1    regcar       van    regcar   \n4   5  choice1          0          0        1    regcar   stwagon    regcar   \n\n     type4     type5  ... cost3 cost4 cost5 cost6 station1 station2 station3  \\\n0  sportuv  sportcar  ...     2     2     6     6      0.0      0.0      0.1   \n1   regcar   sportuv  ...     6     6     8     8      0.0      0.0      0.3   \n2    truck    regcar  ...     6     6     8     8      0.0      0.0      0.3   \n3  stwagon    regcar  ...     6     6     2     2      0.0      0.0      0.3   \n4    truck    regcar  ...     4     4     6     6      0.0      0.0      0.3   \n\n   station4  station5  station6  \n0       0.1       1.0       1.0  \n1       0.3       1.0       1.0  \n2       0.3       1.0       1.0  \n3       0.3       1.0       1.0  \n4       0.3       1.0       1.0  \n\n[5 rows x 71 columns]",
      "text/html": "<div>\n<style scoped>\n    .dataframe tbody tr th:only-of-type {\n        vertical-align: middle;\n    }\n\n    .dataframe tbody tr th {\n        vertical-align: top;\n    }\n\n    .dataframe thead th {\n        text-align: right;\n    }\n</style>\n<table border=\"1\" class=\"dataframe\">\n  <thead>\n    <tr style=\"text-align: right;\">\n      <th></th>\n      <th>id</th>\n      <th>choice</th>\n      <th>education</th>\n      <th>household</th>\n      <th>commute</th>\n      <th>type1</th>\n      <th>type2</th>\n      <th>type3</th>\n      <th>type4</th>\n      <th>type5</th>\n      <th>...</th>\n      <th>cost3</th>\n      <th>cost4</th>\n      <th>cost5</th>\n      <th>cost6</th>\n      <th>station1</th>\n      <th>station2</th>\n      <th>station3</th>\n      <th>station4</th>\n      <th>station5</th>\n      <th>station6</th>\n    </tr>\n  </thead>\n  <tbody>\n    <tr>\n      <th>0</th>\n      <td>1</td>\n      <td>choice5</td>\n      <td>1</td>\n      <td>0</td>\n      <td>0</td>\n      <td>sportcar</td>\n      <td>truck</td>\n      <td>sportcar</td>\n      <td>sportuv</td>\n      <td>sportcar</td>\n      <td>...</td>\n      <td>2</td>\n      <td>2</td>\n      <td>6</td>\n      <td>6</td>\n      <td>0.0</td>\n      <td>0.0</td>\n      <td>0.1</td>\n      <td>0.1</td>\n      <td>1.0</td>\n      <td>1.0</td>\n    </tr>\n    <tr>\n      <th>1</th>\n      <td>2</td>\n      <td>choice5</td>\n      <td>1</td>\n      <td>1</td>\n      <td>1</td>\n      <td>sportuv</td>\n      <td>sportcar</td>\n      <td>sportuv</td>\n      <td>regcar</td>\n      <td>sportuv</td>\n      <td>...</td>\n      <td>6</td>\n      <td>6</td>\n      <td>8</td>\n      <td>8</td>\n      <td>0.0</td>\n      <td>0.0</td>\n      <td>0.3</td>\n      <td>0.3</td>\n      <td>1.0</td>\n      <td>1.0</td>\n    </tr>\n    <tr>\n      <th>2</th>\n      <td>3</td>\n      <td>choice5</td>\n      <td>1</td>\n      <td>0</td>\n      <td>0</td>\n      <td>regcar</td>\n      <td>stwagon</td>\n      <td>regcar</td>\n      <td>truck</td>\n      <td>regcar</td>\n      <td>...</td>\n      <td>6</td>\n      <td>6</td>\n      <td>8</td>\n      <td>8</td>\n      <td>0.0</td>\n      <td>0.0</td>\n      <td>0.3</td>\n      <td>0.3</td>\n      <td>1.0</td>\n      <td>1.0</td>\n    </tr>\n    <tr>\n      <th>3</th>\n      <td>4</td>\n      <td>choice4</td>\n      <td>1</td>\n      <td>0</td>\n      <td>1</td>\n      <td>regcar</td>\n      <td>van</td>\n      <td>regcar</td>\n      <td>stwagon</td>\n      <td>regcar</td>\n      <td>...</td>\n      <td>6</td>\n      <td>6</td>\n      <td>2</td>\n      <td>2</td>\n      <td>0.0</td>\n      <td>0.0</td>\n      <td>0.3</td>\n      <td>0.3</td>\n      <td>1.0</td>\n      <td>1.0</td>\n    </tr>\n    <tr>\n      <th>4</th>\n      <td>5</td>\n      <td>choice1</td>\n      <td>0</td>\n      <td>0</td>\n      <td>1</td>\n      <td>regcar</td>\n      <td>stwagon</td>\n      <td>regcar</td>\n      <td>truck</td>\n      <td>regcar</td>\n      <td>...</td>\n      <td>4</td>\n      <td>4</td>\n      <td>6</td>\n      <td>6</td>\n      <td>0.0</td>\n      <td>0.0</td>\n      <td>0.3</td>\n      <td>0.3</td>\n      <td>1.0</td>\n      <td>1.0</td>\n    </tr>\n  </tbody>\n</table>\n<p>5 rows × 71 columns</p>\n</div>"
     },
     "execution_count": 500,
     "metadata": {},
     "output_type": "execute_result"
    }
   ],
   "source": [
    "import pandas as pd\n",
    "data = pd.read_csv('trainingData.csv')\n",
    "data.head()"
   ]
  },
  {
   "cell_type": "code",
   "execution_count": 501,
   "outputs": [
    {
     "data": {
      "text/plain": "   choice  education  household  commute  type1  type2  type3  type4  type5  \\\n0       5          1          0        0      3      5      3      2      3   \n1       5          1          1        1      2      3      2      1      2   \n2       5          1          0        0      1      4      1      5      1   \n3       4          1          0        1      1      0      1      4      1   \n4       1          0          0        1      1      4      1      5      1   \n\n   type6  ...  cost3  cost4  cost5  cost6  station1  station2  station3  \\\n0      1  ...      2      2      6      6       0.0       0.0       0.1   \n1      5  ...      6      6      8      8       0.0       0.0       0.3   \n2      0  ...      6      6      8      8       0.0       0.0       0.3   \n3      5  ...      6      6      2      2       0.0       0.0       0.3   \n4      0  ...      4      4      6      6       0.0       0.0       0.3   \n\n   station4  station5  station6  \n0       0.1       1.0       1.0  \n1       0.3       1.0       1.0  \n2       0.3       1.0       1.0  \n3       0.3       1.0       1.0  \n4       0.3       1.0       1.0  \n\n[5 rows x 70 columns]",
      "text/html": "<div>\n<style scoped>\n    .dataframe tbody tr th:only-of-type {\n        vertical-align: middle;\n    }\n\n    .dataframe tbody tr th {\n        vertical-align: top;\n    }\n\n    .dataframe thead th {\n        text-align: right;\n    }\n</style>\n<table border=\"1\" class=\"dataframe\">\n  <thead>\n    <tr style=\"text-align: right;\">\n      <th></th>\n      <th>choice</th>\n      <th>education</th>\n      <th>household</th>\n      <th>commute</th>\n      <th>type1</th>\n      <th>type2</th>\n      <th>type3</th>\n      <th>type4</th>\n      <th>type5</th>\n      <th>type6</th>\n      <th>...</th>\n      <th>cost3</th>\n      <th>cost4</th>\n      <th>cost5</th>\n      <th>cost6</th>\n      <th>station1</th>\n      <th>station2</th>\n      <th>station3</th>\n      <th>station4</th>\n      <th>station5</th>\n      <th>station6</th>\n    </tr>\n  </thead>\n  <tbody>\n    <tr>\n      <th>0</th>\n      <td>5</td>\n      <td>1</td>\n      <td>0</td>\n      <td>0</td>\n      <td>3</td>\n      <td>5</td>\n      <td>3</td>\n      <td>2</td>\n      <td>3</td>\n      <td>1</td>\n      <td>...</td>\n      <td>2</td>\n      <td>2</td>\n      <td>6</td>\n      <td>6</td>\n      <td>0.0</td>\n      <td>0.0</td>\n      <td>0.1</td>\n      <td>0.1</td>\n      <td>1.0</td>\n      <td>1.0</td>\n    </tr>\n    <tr>\n      <th>1</th>\n      <td>5</td>\n      <td>1</td>\n      <td>1</td>\n      <td>1</td>\n      <td>2</td>\n      <td>3</td>\n      <td>2</td>\n      <td>1</td>\n      <td>2</td>\n      <td>5</td>\n      <td>...</td>\n      <td>6</td>\n      <td>6</td>\n      <td>8</td>\n      <td>8</td>\n      <td>0.0</td>\n      <td>0.0</td>\n      <td>0.3</td>\n      <td>0.3</td>\n      <td>1.0</td>\n      <td>1.0</td>\n    </tr>\n    <tr>\n      <th>2</th>\n      <td>5</td>\n      <td>1</td>\n      <td>0</td>\n      <td>0</td>\n      <td>1</td>\n      <td>4</td>\n      <td>1</td>\n      <td>5</td>\n      <td>1</td>\n      <td>0</td>\n      <td>...</td>\n      <td>6</td>\n      <td>6</td>\n      <td>8</td>\n      <td>8</td>\n      <td>0.0</td>\n      <td>0.0</td>\n      <td>0.3</td>\n      <td>0.3</td>\n      <td>1.0</td>\n      <td>1.0</td>\n    </tr>\n    <tr>\n      <th>3</th>\n      <td>4</td>\n      <td>1</td>\n      <td>0</td>\n      <td>1</td>\n      <td>1</td>\n      <td>0</td>\n      <td>1</td>\n      <td>4</td>\n      <td>1</td>\n      <td>5</td>\n      <td>...</td>\n      <td>6</td>\n      <td>6</td>\n      <td>2</td>\n      <td>2</td>\n      <td>0.0</td>\n      <td>0.0</td>\n      <td>0.3</td>\n      <td>0.3</td>\n      <td>1.0</td>\n      <td>1.0</td>\n    </tr>\n    <tr>\n      <th>4</th>\n      <td>1</td>\n      <td>0</td>\n      <td>0</td>\n      <td>1</td>\n      <td>1</td>\n      <td>4</td>\n      <td>1</td>\n      <td>5</td>\n      <td>1</td>\n      <td>0</td>\n      <td>...</td>\n      <td>4</td>\n      <td>4</td>\n      <td>6</td>\n      <td>6</td>\n      <td>0.0</td>\n      <td>0.0</td>\n      <td>0.3</td>\n      <td>0.3</td>\n      <td>1.0</td>\n      <td>1.0</td>\n    </tr>\n  </tbody>\n</table>\n<p>5 rows × 70 columns</p>\n</div>"
     },
     "execution_count": 501,
     "metadata": {},
     "output_type": "execute_result"
    }
   ],
   "source": [
    "def replace_choice(choice):\n",
    "    try:\n",
    "        return int(choice[6:])\n",
    "    except TypeError:\n",
    "        return choice\n",
    "\n",
    "def replace_carType(carType):\n",
    "    try:\n",
    "        types = ['van', 'regcar', 'sportuv', 'sportcar', 'stwagon', 'truck']\n",
    "        return types.index(carType)\n",
    "    except ValueError:\n",
    "        return carType\n",
    "\n",
    "def replace_fuelType(fuelType):\n",
    "    try:\n",
    "        types = ['cng', 'methanol', 'electric', 'gasoline']\n",
    "        return types.index(fuelType)\n",
    "    except ValueError:\n",
    "        return fuelType\n",
    "\n",
    "for type in data.columns[5:11]:\n",
    "    data[type] = data[type].apply(replace_carType)\n",
    "for type in data.columns[11:17]:\n",
    "    data[type] = data[type].apply(replace_fuelType)\n",
    "\n",
    "data['choice'] = data['choice'].apply(replace_choice)\n",
    "\n",
    "data.drop(['id'], axis=1, inplace=True)\n",
    "data.head()"
   ],
   "metadata": {
    "collapsed": false,
    "pycharm": {
     "name": "#%%\n"
    }
   }
  },
  {
   "cell_type": "code",
   "execution_count": 502,
   "outputs": [],
   "source": [
    "data_no_choices = data.drop(['choice'], axis=1)"
   ],
   "metadata": {
    "collapsed": false,
    "pycharm": {
     "name": "#%%\n"
    }
   }
  },
  {
   "cell_type": "code",
   "execution_count": 503,
   "outputs": [
    {
     "data": {
      "text/plain": "            choice    education    household      commute        type1  \\\ncount  4554.000000  4554.000000  4554.000000  4554.000000  4554.000000   \nmean      3.480237     0.767018     0.222881     0.358366     1.563022   \nstd       1.595260     0.422777     0.416225     0.479573     1.389491   \nmin       1.000000     0.000000     0.000000     0.000000     0.000000   \n25%       3.000000     1.000000     0.000000     0.000000     1.000000   \n50%       3.000000     1.000000     0.000000     0.000000     1.000000   \n75%       5.000000     1.000000     0.000000     1.000000     1.000000   \nmax       6.000000     1.000000     1.000000     1.000000     5.000000   \n\n             type2        type3        type4        type5        type6  ...  \\\ncount  4554.000000  4554.000000  4554.000000  4554.000000  4554.000000  ...   \nmean      3.075099     1.563022     2.380984     1.563022     3.084321  ...   \nstd       2.064750     1.389491     2.189366     1.389491     1.903770  ...   \nmin       0.000000     0.000000     0.000000     0.000000     0.000000  ...   \n25%       1.000000     1.000000     0.000000     1.000000     1.000000  ...   \n50%       4.000000     1.000000     3.000000     1.000000     4.000000  ...   \n75%       5.000000     1.000000     5.000000     1.000000     4.000000  ...   \nmax       5.000000     5.000000     5.000000     5.000000     5.000000  ...   \n\n             cost3        cost4        cost5        cost6     station1  \\\ncount  4554.000000  4554.000000  4554.000000  4554.000000  4554.000000   \nmean      4.958718     4.958718     4.971893     4.971893     0.088845   \nstd       2.233967     2.233967     2.230630     2.230630     0.189786   \nmin       2.000000     2.000000     2.000000     2.000000     0.000000   \n25%       2.000000     2.000000     2.000000     2.000000     0.000000   \n50%       4.000000     4.000000     4.000000     4.000000     0.000000   \n75%       6.000000     6.000000     6.000000     6.000000     0.100000   \nmax       8.000000     8.000000     8.000000     8.000000     0.700000   \n\n          station2     station3     station4     station5     station6  \ncount  4554.000000  4554.000000  4554.000000  4554.000000  4554.000000  \nmean      0.088845     0.383048     0.383048     0.823276     0.823276  \nstd       0.189786     0.253069     0.253069     0.327559     0.327559  \nmin       0.000000     0.100000     0.100000     0.100000     0.100000  \n25%       0.000000     0.100000     0.100000     0.700000     0.700000  \n50%       0.000000     0.300000     0.300000     1.000000     1.000000  \n75%       0.100000     0.700000     0.700000     1.000000     1.000000  \nmax       0.700000     0.700000     0.700000     1.000000     1.000000  \n\n[8 rows x 70 columns]",
      "text/html": "<div>\n<style scoped>\n    .dataframe tbody tr th:only-of-type {\n        vertical-align: middle;\n    }\n\n    .dataframe tbody tr th {\n        vertical-align: top;\n    }\n\n    .dataframe thead th {\n        text-align: right;\n    }\n</style>\n<table border=\"1\" class=\"dataframe\">\n  <thead>\n    <tr style=\"text-align: right;\">\n      <th></th>\n      <th>choice</th>\n      <th>education</th>\n      <th>household</th>\n      <th>commute</th>\n      <th>type1</th>\n      <th>type2</th>\n      <th>type3</th>\n      <th>type4</th>\n      <th>type5</th>\n      <th>type6</th>\n      <th>...</th>\n      <th>cost3</th>\n      <th>cost4</th>\n      <th>cost5</th>\n      <th>cost6</th>\n      <th>station1</th>\n      <th>station2</th>\n      <th>station3</th>\n      <th>station4</th>\n      <th>station5</th>\n      <th>station6</th>\n    </tr>\n  </thead>\n  <tbody>\n    <tr>\n      <th>count</th>\n      <td>4554.000000</td>\n      <td>4554.000000</td>\n      <td>4554.000000</td>\n      <td>4554.000000</td>\n      <td>4554.000000</td>\n      <td>4554.000000</td>\n      <td>4554.000000</td>\n      <td>4554.000000</td>\n      <td>4554.000000</td>\n      <td>4554.000000</td>\n      <td>...</td>\n      <td>4554.000000</td>\n      <td>4554.000000</td>\n      <td>4554.000000</td>\n      <td>4554.000000</td>\n      <td>4554.000000</td>\n      <td>4554.000000</td>\n      <td>4554.000000</td>\n      <td>4554.000000</td>\n      <td>4554.000000</td>\n      <td>4554.000000</td>\n    </tr>\n    <tr>\n      <th>mean</th>\n      <td>3.480237</td>\n      <td>0.767018</td>\n      <td>0.222881</td>\n      <td>0.358366</td>\n      <td>1.563022</td>\n      <td>3.075099</td>\n      <td>1.563022</td>\n      <td>2.380984</td>\n      <td>1.563022</td>\n      <td>3.084321</td>\n      <td>...</td>\n      <td>4.958718</td>\n      <td>4.958718</td>\n      <td>4.971893</td>\n      <td>4.971893</td>\n      <td>0.088845</td>\n      <td>0.088845</td>\n      <td>0.383048</td>\n      <td>0.383048</td>\n      <td>0.823276</td>\n      <td>0.823276</td>\n    </tr>\n    <tr>\n      <th>std</th>\n      <td>1.595260</td>\n      <td>0.422777</td>\n      <td>0.416225</td>\n      <td>0.479573</td>\n      <td>1.389491</td>\n      <td>2.064750</td>\n      <td>1.389491</td>\n      <td>2.189366</td>\n      <td>1.389491</td>\n      <td>1.903770</td>\n      <td>...</td>\n      <td>2.233967</td>\n      <td>2.233967</td>\n      <td>2.230630</td>\n      <td>2.230630</td>\n      <td>0.189786</td>\n      <td>0.189786</td>\n      <td>0.253069</td>\n      <td>0.253069</td>\n      <td>0.327559</td>\n      <td>0.327559</td>\n    </tr>\n    <tr>\n      <th>min</th>\n      <td>1.000000</td>\n      <td>0.000000</td>\n      <td>0.000000</td>\n      <td>0.000000</td>\n      <td>0.000000</td>\n      <td>0.000000</td>\n      <td>0.000000</td>\n      <td>0.000000</td>\n      <td>0.000000</td>\n      <td>0.000000</td>\n      <td>...</td>\n      <td>2.000000</td>\n      <td>2.000000</td>\n      <td>2.000000</td>\n      <td>2.000000</td>\n      <td>0.000000</td>\n      <td>0.000000</td>\n      <td>0.100000</td>\n      <td>0.100000</td>\n      <td>0.100000</td>\n      <td>0.100000</td>\n    </tr>\n    <tr>\n      <th>25%</th>\n      <td>3.000000</td>\n      <td>1.000000</td>\n      <td>0.000000</td>\n      <td>0.000000</td>\n      <td>1.000000</td>\n      <td>1.000000</td>\n      <td>1.000000</td>\n      <td>0.000000</td>\n      <td>1.000000</td>\n      <td>1.000000</td>\n      <td>...</td>\n      <td>2.000000</td>\n      <td>2.000000</td>\n      <td>2.000000</td>\n      <td>2.000000</td>\n      <td>0.000000</td>\n      <td>0.000000</td>\n      <td>0.100000</td>\n      <td>0.100000</td>\n      <td>0.700000</td>\n      <td>0.700000</td>\n    </tr>\n    <tr>\n      <th>50%</th>\n      <td>3.000000</td>\n      <td>1.000000</td>\n      <td>0.000000</td>\n      <td>0.000000</td>\n      <td>1.000000</td>\n      <td>4.000000</td>\n      <td>1.000000</td>\n      <td>3.000000</td>\n      <td>1.000000</td>\n      <td>4.000000</td>\n      <td>...</td>\n      <td>4.000000</td>\n      <td>4.000000</td>\n      <td>4.000000</td>\n      <td>4.000000</td>\n      <td>0.000000</td>\n      <td>0.000000</td>\n      <td>0.300000</td>\n      <td>0.300000</td>\n      <td>1.000000</td>\n      <td>1.000000</td>\n    </tr>\n    <tr>\n      <th>75%</th>\n      <td>5.000000</td>\n      <td>1.000000</td>\n      <td>0.000000</td>\n      <td>1.000000</td>\n      <td>1.000000</td>\n      <td>5.000000</td>\n      <td>1.000000</td>\n      <td>5.000000</td>\n      <td>1.000000</td>\n      <td>4.000000</td>\n      <td>...</td>\n      <td>6.000000</td>\n      <td>6.000000</td>\n      <td>6.000000</td>\n      <td>6.000000</td>\n      <td>0.100000</td>\n      <td>0.100000</td>\n      <td>0.700000</td>\n      <td>0.700000</td>\n      <td>1.000000</td>\n      <td>1.000000</td>\n    </tr>\n    <tr>\n      <th>max</th>\n      <td>6.000000</td>\n      <td>1.000000</td>\n      <td>1.000000</td>\n      <td>1.000000</td>\n      <td>5.000000</td>\n      <td>5.000000</td>\n      <td>5.000000</td>\n      <td>5.000000</td>\n      <td>5.000000</td>\n      <td>5.000000</td>\n      <td>...</td>\n      <td>8.000000</td>\n      <td>8.000000</td>\n      <td>8.000000</td>\n      <td>8.000000</td>\n      <td>0.700000</td>\n      <td>0.700000</td>\n      <td>0.700000</td>\n      <td>0.700000</td>\n      <td>1.000000</td>\n      <td>1.000000</td>\n    </tr>\n  </tbody>\n</table>\n<p>8 rows × 70 columns</p>\n</div>"
     },
     "execution_count": 503,
     "metadata": {},
     "output_type": "execute_result"
    }
   ],
   "source": [
    "data.describe()"
   ],
   "metadata": {
    "collapsed": false,
    "pycharm": {
     "name": "#%%\n"
    }
   }
  },
  {
   "cell_type": "code",
   "execution_count": 504,
   "outputs": [
    {
     "data": {
      "text/plain": "             choice  education  household   commute     type1     type2  \\\nchoice     1.000000  -0.042162   0.019701  0.031365  0.028108 -0.071965   \neducation -0.042162   1.000000  -0.071797 -0.079916 -0.041738 -0.000835   \nhousehold  0.019701  -0.071797   1.000000 -0.043729 -0.033977 -0.016925   \ncommute    0.031365  -0.079916  -0.043729  1.000000 -0.038844 -0.052915   \ntype1      0.028108  -0.041738  -0.033977 -0.038844  1.000000 -0.284754   \n...             ...        ...        ...       ...       ...       ...   \nstation2  -0.100913  -0.003382   0.017301 -0.349894  0.013660  0.115022   \nstation3  -0.028848   0.003518   0.008145 -0.062859 -0.017698  0.087429   \nstation4  -0.028848   0.003518   0.008145 -0.062859 -0.017698  0.087429   \nstation5  -0.002398  -0.009205   0.006403 -0.143014  0.031183 -0.190419   \nstation6  -0.002398  -0.009205   0.006403 -0.143014  0.031183 -0.190419   \n\n              type3     type4     type5     type6  ...     cost3     cost4  \\\nchoice     0.028108  0.054634  0.028108 -0.002778  ...  0.074282  0.074282   \neducation -0.041738  0.019511 -0.041738  0.011042  ... -0.019720 -0.019720   \nhousehold -0.033977  0.020560 -0.033977  0.009262  ...  0.003520  0.003520   \ncommute   -0.038844  0.155055 -0.038844 -0.097336  ... -0.011199 -0.011199   \ntype1      1.000000 -0.121138  1.000000 -0.248690  ... -0.009775 -0.009775   \n...             ...       ...       ...       ...  ...       ...       ...   \nstation2   0.013660 -0.275632  0.013660  0.184241  ... -0.058589 -0.058589   \nstation3  -0.017698 -0.137669 -0.017698  0.073811  ... -0.128587 -0.128587   \nstation4  -0.017698 -0.137669 -0.017698  0.073811  ... -0.128587 -0.128587   \nstation5   0.031183  0.352820  0.031183 -0.218382  ...  0.100783  0.100783   \nstation6   0.031183  0.352820  0.031183 -0.218382  ...  0.100783  0.100783   \n\n              cost5     cost6  station1  station2  station3  station4  \\\nchoice    -0.085148 -0.085148 -0.100913 -0.100913 -0.028848 -0.028848   \neducation  0.011453  0.011453 -0.003382 -0.003382  0.003518  0.003518   \nhousehold -0.011467 -0.011467  0.017301  0.017301  0.008145  0.008145   \ncommute    0.020094  0.020094 -0.349894 -0.349894 -0.062859 -0.062859   \ntype1      0.019279  0.019279  0.013660  0.013660 -0.017698 -0.017698   \n...             ...       ...       ...       ...       ...       ...   \nstation2   0.042113  0.042113  1.000000  1.000000 -0.048479 -0.048479   \nstation3  -0.022088 -0.022088 -0.048479 -0.048479  1.000000  1.000000   \nstation4  -0.022088 -0.022088 -0.048479 -0.048479  1.000000  1.000000   \nstation5  -0.000968 -0.000968  0.252621  0.252621 -0.256963 -0.256963   \nstation6  -0.000968 -0.000968  0.252621  0.252621 -0.256963 -0.256963   \n\n           station5  station6  \nchoice    -0.002398 -0.002398  \neducation -0.009205 -0.009205  \nhousehold  0.006403  0.006403  \ncommute   -0.143014 -0.143014  \ntype1      0.031183  0.031183  \n...             ...       ...  \nstation2   0.252621  0.252621  \nstation3  -0.256963 -0.256963  \nstation4  -0.256963 -0.256963  \nstation5   1.000000  1.000000  \nstation6   1.000000  1.000000  \n\n[70 rows x 70 columns]",
      "text/html": "<div>\n<style scoped>\n    .dataframe tbody tr th:only-of-type {\n        vertical-align: middle;\n    }\n\n    .dataframe tbody tr th {\n        vertical-align: top;\n    }\n\n    .dataframe thead th {\n        text-align: right;\n    }\n</style>\n<table border=\"1\" class=\"dataframe\">\n  <thead>\n    <tr style=\"text-align: right;\">\n      <th></th>\n      <th>choice</th>\n      <th>education</th>\n      <th>household</th>\n      <th>commute</th>\n      <th>type1</th>\n      <th>type2</th>\n      <th>type3</th>\n      <th>type4</th>\n      <th>type5</th>\n      <th>type6</th>\n      <th>...</th>\n      <th>cost3</th>\n      <th>cost4</th>\n      <th>cost5</th>\n      <th>cost6</th>\n      <th>station1</th>\n      <th>station2</th>\n      <th>station3</th>\n      <th>station4</th>\n      <th>station5</th>\n      <th>station6</th>\n    </tr>\n  </thead>\n  <tbody>\n    <tr>\n      <th>choice</th>\n      <td>1.000000</td>\n      <td>-0.042162</td>\n      <td>0.019701</td>\n      <td>0.031365</td>\n      <td>0.028108</td>\n      <td>-0.071965</td>\n      <td>0.028108</td>\n      <td>0.054634</td>\n      <td>0.028108</td>\n      <td>-0.002778</td>\n      <td>...</td>\n      <td>0.074282</td>\n      <td>0.074282</td>\n      <td>-0.085148</td>\n      <td>-0.085148</td>\n      <td>-0.100913</td>\n      <td>-0.100913</td>\n      <td>-0.028848</td>\n      <td>-0.028848</td>\n      <td>-0.002398</td>\n      <td>-0.002398</td>\n    </tr>\n    <tr>\n      <th>education</th>\n      <td>-0.042162</td>\n      <td>1.000000</td>\n      <td>-0.071797</td>\n      <td>-0.079916</td>\n      <td>-0.041738</td>\n      <td>-0.000835</td>\n      <td>-0.041738</td>\n      <td>0.019511</td>\n      <td>-0.041738</td>\n      <td>0.011042</td>\n      <td>...</td>\n      <td>-0.019720</td>\n      <td>-0.019720</td>\n      <td>0.011453</td>\n      <td>0.011453</td>\n      <td>-0.003382</td>\n      <td>-0.003382</td>\n      <td>0.003518</td>\n      <td>0.003518</td>\n      <td>-0.009205</td>\n      <td>-0.009205</td>\n    </tr>\n    <tr>\n      <th>household</th>\n      <td>0.019701</td>\n      <td>-0.071797</td>\n      <td>1.000000</td>\n      <td>-0.043729</td>\n      <td>-0.033977</td>\n      <td>-0.016925</td>\n      <td>-0.033977</td>\n      <td>0.020560</td>\n      <td>-0.033977</td>\n      <td>0.009262</td>\n      <td>...</td>\n      <td>0.003520</td>\n      <td>0.003520</td>\n      <td>-0.011467</td>\n      <td>-0.011467</td>\n      <td>0.017301</td>\n      <td>0.017301</td>\n      <td>0.008145</td>\n      <td>0.008145</td>\n      <td>0.006403</td>\n      <td>0.006403</td>\n    </tr>\n    <tr>\n      <th>commute</th>\n      <td>0.031365</td>\n      <td>-0.079916</td>\n      <td>-0.043729</td>\n      <td>1.000000</td>\n      <td>-0.038844</td>\n      <td>-0.052915</td>\n      <td>-0.038844</td>\n      <td>0.155055</td>\n      <td>-0.038844</td>\n      <td>-0.097336</td>\n      <td>...</td>\n      <td>-0.011199</td>\n      <td>-0.011199</td>\n      <td>0.020094</td>\n      <td>0.020094</td>\n      <td>-0.349894</td>\n      <td>-0.349894</td>\n      <td>-0.062859</td>\n      <td>-0.062859</td>\n      <td>-0.143014</td>\n      <td>-0.143014</td>\n    </tr>\n    <tr>\n      <th>type1</th>\n      <td>0.028108</td>\n      <td>-0.041738</td>\n      <td>-0.033977</td>\n      <td>-0.038844</td>\n      <td>1.000000</td>\n      <td>-0.284754</td>\n      <td>1.000000</td>\n      <td>-0.121138</td>\n      <td>1.000000</td>\n      <td>-0.248690</td>\n      <td>...</td>\n      <td>-0.009775</td>\n      <td>-0.009775</td>\n      <td>0.019279</td>\n      <td>0.019279</td>\n      <td>0.013660</td>\n      <td>0.013660</td>\n      <td>-0.017698</td>\n      <td>-0.017698</td>\n      <td>0.031183</td>\n      <td>0.031183</td>\n    </tr>\n    <tr>\n      <th>...</th>\n      <td>...</td>\n      <td>...</td>\n      <td>...</td>\n      <td>...</td>\n      <td>...</td>\n      <td>...</td>\n      <td>...</td>\n      <td>...</td>\n      <td>...</td>\n      <td>...</td>\n      <td>...</td>\n      <td>...</td>\n      <td>...</td>\n      <td>...</td>\n      <td>...</td>\n      <td>...</td>\n      <td>...</td>\n      <td>...</td>\n      <td>...</td>\n      <td>...</td>\n      <td>...</td>\n    </tr>\n    <tr>\n      <th>station2</th>\n      <td>-0.100913</td>\n      <td>-0.003382</td>\n      <td>0.017301</td>\n      <td>-0.349894</td>\n      <td>0.013660</td>\n      <td>0.115022</td>\n      <td>0.013660</td>\n      <td>-0.275632</td>\n      <td>0.013660</td>\n      <td>0.184241</td>\n      <td>...</td>\n      <td>-0.058589</td>\n      <td>-0.058589</td>\n      <td>0.042113</td>\n      <td>0.042113</td>\n      <td>1.000000</td>\n      <td>1.000000</td>\n      <td>-0.048479</td>\n      <td>-0.048479</td>\n      <td>0.252621</td>\n      <td>0.252621</td>\n    </tr>\n    <tr>\n      <th>station3</th>\n      <td>-0.028848</td>\n      <td>0.003518</td>\n      <td>0.008145</td>\n      <td>-0.062859</td>\n      <td>-0.017698</td>\n      <td>0.087429</td>\n      <td>-0.017698</td>\n      <td>-0.137669</td>\n      <td>-0.017698</td>\n      <td>0.073811</td>\n      <td>...</td>\n      <td>-0.128587</td>\n      <td>-0.128587</td>\n      <td>-0.022088</td>\n      <td>-0.022088</td>\n      <td>-0.048479</td>\n      <td>-0.048479</td>\n      <td>1.000000</td>\n      <td>1.000000</td>\n      <td>-0.256963</td>\n      <td>-0.256963</td>\n    </tr>\n    <tr>\n      <th>station4</th>\n      <td>-0.028848</td>\n      <td>0.003518</td>\n      <td>0.008145</td>\n      <td>-0.062859</td>\n      <td>-0.017698</td>\n      <td>0.087429</td>\n      <td>-0.017698</td>\n      <td>-0.137669</td>\n      <td>-0.017698</td>\n      <td>0.073811</td>\n      <td>...</td>\n      <td>-0.128587</td>\n      <td>-0.128587</td>\n      <td>-0.022088</td>\n      <td>-0.022088</td>\n      <td>-0.048479</td>\n      <td>-0.048479</td>\n      <td>1.000000</td>\n      <td>1.000000</td>\n      <td>-0.256963</td>\n      <td>-0.256963</td>\n    </tr>\n    <tr>\n      <th>station5</th>\n      <td>-0.002398</td>\n      <td>-0.009205</td>\n      <td>0.006403</td>\n      <td>-0.143014</td>\n      <td>0.031183</td>\n      <td>-0.190419</td>\n      <td>0.031183</td>\n      <td>0.352820</td>\n      <td>0.031183</td>\n      <td>-0.218382</td>\n      <td>...</td>\n      <td>0.100783</td>\n      <td>0.100783</td>\n      <td>-0.000968</td>\n      <td>-0.000968</td>\n      <td>0.252621</td>\n      <td>0.252621</td>\n      <td>-0.256963</td>\n      <td>-0.256963</td>\n      <td>1.000000</td>\n      <td>1.000000</td>\n    </tr>\n    <tr>\n      <th>station6</th>\n      <td>-0.002398</td>\n      <td>-0.009205</td>\n      <td>0.006403</td>\n      <td>-0.143014</td>\n      <td>0.031183</td>\n      <td>-0.190419</td>\n      <td>0.031183</td>\n      <td>0.352820</td>\n      <td>0.031183</td>\n      <td>-0.218382</td>\n      <td>...</td>\n      <td>0.100783</td>\n      <td>0.100783</td>\n      <td>-0.000968</td>\n      <td>-0.000968</td>\n      <td>0.252621</td>\n      <td>0.252621</td>\n      <td>-0.256963</td>\n      <td>-0.256963</td>\n      <td>1.000000</td>\n      <td>1.000000</td>\n    </tr>\n  </tbody>\n</table>\n<p>70 rows × 70 columns</p>\n</div>"
     },
     "execution_count": 504,
     "metadata": {},
     "output_type": "execute_result"
    }
   ],
   "source": [
    "data.corr()"
   ],
   "metadata": {
    "collapsed": false,
    "pycharm": {
     "name": "#%%\n"
    }
   }
  },
  {
   "cell_type": "code",
   "execution_count": 505,
   "outputs": [
    {
     "data": {
      "text/plain": "array([[<AxesSubplot:title={'center':'choice'}>,\n        <AxesSubplot:title={'center':'education'}>],\n       [<AxesSubplot:title={'center':'household'}>,\n        <AxesSubplot:title={'center':'commute'}>]], dtype=object)"
     },
     "execution_count": 505,
     "metadata": {},
     "output_type": "execute_result"
    },
    {
     "data": {
      "text/plain": "<Figure size 432x288 with 4 Axes>",
      "image/png": "[encoded data removed]"
     },
     "metadata": {
      "needs_background": "light"
     },
     "output_type": "display_data"
    }
   ],
   "source": [
    "data.hist(column=['choice', 'education', 'household', 'commute'])\n"
   ],
   "metadata": {
    "collapsed": false,
    "pycharm": {
     "name": "#%%\n"
    }
   }
  },
  {
   "cell_type": "code",
   "execution_count": 506,
   "outputs": [
    {
     "data": {
      "text/plain": "   choice  education  household  commute  type1  type2  type3  type4  type5  \\\n0       5          1          0        0      3      5      3      2      3   \n1       5          1          1        1      2      3      2      1      2   \n2       5          1          0        0      1      4      1      5      1   \n3       4          1          0        1      1      0      1      4      1   \n4       1          0          0        1      1      4      1      5      1   \n\n   type6  ...  cost3  cost4  cost5  cost6  station1  station2  station3  \\\n0      1  ...      2      2      6      6       0.0       0.0       0.1   \n1      5  ...      6      6      8      8       0.0       0.0       0.3   \n2      0  ...      6      6      8      8       0.0       0.0       0.3   \n3      5  ...      6      6      2      2       0.0       0.0       0.3   \n4      0  ...      4      4      6      6       0.0       0.0       0.3   \n\n   station4  station5  station6  \n0       0.1       1.0       1.0  \n1       0.3       1.0       1.0  \n2       0.3       1.0       1.0  \n3       0.3       1.0       1.0  \n4       0.3       1.0       1.0  \n\n[5 rows x 70 columns]",
      "text/html": "<div>\n<style scoped>\n    .dataframe tbody tr th:only-of-type {\n        vertical-align: middle;\n    }\n\n    .dataframe tbody tr th {\n        vertical-align: top;\n    }\n\n    .dataframe thead th {\n        text-align: right;\n    }\n</style>\n<table border=\"1\" class=\"dataframe\">\n  <thead>\n    <tr style=\"text-align: right;\">\n      <th></th>\n      <th>choice</th>\n      <th>education</th>\n      <th>household</th>\n      <th>commute</th>\n      <th>type1</th>\n      <th>type2</th>\n      <th>type3</th>\n      <th>type4</th>\n      <th>type5</th>\n      <th>type6</th>\n      <th>...</th>\n      <th>cost3</th>\n      <th>cost4</th>\n      <th>cost5</th>\n      <th>cost6</th>\n      <th>station1</th>\n      <th>station2</th>\n      <th>station3</th>\n      <th>station4</th>\n      <th>station5</th>\n      <th>station6</th>\n    </tr>\n  </thead>\n  <tbody>\n    <tr>\n      <th>0</th>\n      <td>5</td>\n      <td>1</td>\n      <td>0</td>\n      <td>0</td>\n      <td>3</td>\n      <td>5</td>\n      <td>3</td>\n      <td>2</td>\n      <td>3</td>\n      <td>1</td>\n      <td>...</td>\n      <td>2</td>\n      <td>2</td>\n      <td>6</td>\n      <td>6</td>\n      <td>0.0</td>\n      <td>0.0</td>\n      <td>0.1</td>\n      <td>0.1</td>\n      <td>1.0</td>\n      <td>1.0</td>\n    </tr>\n    <tr>\n      <th>1</th>\n      <td>5</td>\n      <td>1</td>\n      <td>1</td>\n      <td>1</td>\n      <td>2</td>\n      <td>3</td>\n      <td>2</td>\n      <td>1</td>\n      <td>2</td>\n      <td>5</td>\n      <td>...</td>\n      <td>6</td>\n      <td>6</td>\n      <td>8</td>\n      <td>8</td>\n      <td>0.0</td>\n      <td>0.0</td>\n      <td>0.3</td>\n      <td>0.3</td>\n      <td>1.0</td>\n      <td>1.0</td>\n    </tr>\n    <tr>\n      <th>2</th>\n      <td>5</td>\n      <td>1</td>\n      <td>0</td>\n      <td>0</td>\n      <td>1</td>\n      <td>4</td>\n      <td>1</td>\n      <td>5</td>\n      <td>1</td>\n      <td>0</td>\n      <td>...</td>\n      <td>6</td>\n      <td>6</td>\n      <td>8</td>\n      <td>8</td>\n      <td>0.0</td>\n      <td>0.0</td>\n      <td>0.3</td>\n      <td>0.3</td>\n      <td>1.0</td>\n      <td>1.0</td>\n    </tr>\n    <tr>\n      <th>3</th>\n      <td>4</td>\n      <td>1</td>\n      <td>0</td>\n      <td>1</td>\n      <td>1</td>\n      <td>0</td>\n      <td>1</td>\n      <td>4</td>\n      <td>1</td>\n      <td>5</td>\n      <td>...</td>\n      <td>6</td>\n      <td>6</td>\n      <td>2</td>\n      <td>2</td>\n      <td>0.0</td>\n      <td>0.0</td>\n      <td>0.3</td>\n      <td>0.3</td>\n      <td>1.0</td>\n      <td>1.0</td>\n    </tr>\n    <tr>\n      <th>4</th>\n      <td>1</td>\n      <td>0</td>\n      <td>0</td>\n      <td>1</td>\n      <td>1</td>\n      <td>4</td>\n      <td>1</td>\n      <td>5</td>\n      <td>1</td>\n      <td>0</td>\n      <td>...</td>\n      <td>4</td>\n      <td>4</td>\n      <td>6</td>\n      <td>6</td>\n      <td>0.0</td>\n      <td>0.0</td>\n      <td>0.3</td>\n      <td>0.3</td>\n      <td>1.0</td>\n      <td>1.0</td>\n    </tr>\n  </tbody>\n</table>\n<p>5 rows × 70 columns</p>\n</div>"
     },
     "execution_count": 506,
     "metadata": {},
     "output_type": "execute_result"
    }
   ],
   "source": [
    "from sklearn.preprocessing import MinMaxScaler\n",
    "\n",
    "scaler = MinMaxScaler()\n",
    "arr = data_no_choices.to_numpy()\n",
    "arr_scaled = scaler.fit_transform(arr)\n",
    "scaled_data = pd.DataFrame(arr_scaled)\n",
    "data.head()"
   ],
   "metadata": {
    "collapsed": false,
    "pycharm": {
     "name": "#%%\n"
    }
   }
  },
  {
   "cell_type": "code",
   "execution_count": 507,
   "outputs": [
    {
     "data": {
      "text/plain": "    0    1    2    3    4    5    6    7    8    9   ...        59        60  \\\n0  1.0  0.0  0.0  0.6  1.0  0.6  0.4  0.6  0.2  1.0  ...  0.000000  0.000000   \n1  1.0  1.0  1.0  0.4  0.6  0.4  0.2  0.4  1.0  1.0  ...  0.666667  0.666667   \n2  1.0  0.0  0.0  0.2  0.8  0.2  1.0  0.2  0.0  1.0  ...  0.666667  0.666667   \n3  1.0  0.0  1.0  0.2  0.0  0.2  0.8  0.2  1.0  1.0  ...  0.666667  0.666667   \n4  0.0  0.0  1.0  0.2  0.8  0.2  1.0  0.2  0.0  1.0  ...  0.333333  0.333333   \n\n         61        62   63   64        65        66   67   68  \n0  0.666667  0.666667  0.0  0.0  0.000000  0.000000  1.0  1.0  \n1  1.000000  1.000000  0.0  0.0  0.333333  0.333333  1.0  1.0  \n2  1.000000  1.000000  0.0  0.0  0.333333  0.333333  1.0  1.0  \n3  0.000000  0.000000  0.0  0.0  0.333333  0.333333  1.0  1.0  \n4  0.666667  0.666667  0.0  0.0  0.333333  0.333333  1.0  1.0  \n\n[5 rows x 69 columns]",
      "text/html": "<div>\n<style scoped>\n    .dataframe tbody tr th:only-of-type {\n        vertical-align: middle;\n    }\n\n    .dataframe tbody tr th {\n        vertical-align: top;\n    }\n\n    .dataframe thead th {\n        text-align: right;\n    }\n</style>\n<table border=\"1\" class=\"dataframe\">\n  <thead>\n    <tr style=\"text-align: right;\">\n      <th></th>\n      <th>0</th>\n      <th>1</th>\n      <th>2</th>\n      <th>3</th>\n      <th>4</th>\n      <th>5</th>\n      <th>6</th>\n      <th>7</th>\n      <th>8</th>\n      <th>9</th>\n      <th>...</th>\n      <th>59</th>\n      <th>60</th>\n      <th>61</th>\n      <th>62</th>\n      <th>63</th>\n      <th>64</th>\n      <th>65</th>\n      <th>66</th>\n      <th>67</th>\n      <th>68</th>\n    </tr>\n  </thead>\n  <tbody>\n    <tr>\n      <th>0</th>\n      <td>1.0</td>\n      <td>0.0</td>\n      <td>0.0</td>\n      <td>0.6</td>\n      <td>1.0</td>\n      <td>0.6</td>\n      <td>0.4</td>\n      <td>0.6</td>\n      <td>0.2</td>\n      <td>1.0</td>\n      <td>...</td>\n      <td>0.000000</td>\n      <td>0.000000</td>\n      <td>0.666667</td>\n      <td>0.666667</td>\n      <td>0.0</td>\n      <td>0.0</td>\n      <td>0.000000</td>\n      <td>0.000000</td>\n      <td>1.0</td>\n      <td>1.0</td>\n    </tr>\n    <tr>\n      <th>1</th>\n      <td>1.0</td>\n      <td>1.0</td>\n      <td>1.0</td>\n      <td>0.4</td>\n      <td>0.6</td>\n      <td>0.4</td>\n      <td>0.2</td>\n      <td>0.4</td>\n      <td>1.0</td>\n      <td>1.0</td>\n      <td>...</td>\n      <td>0.666667</td>\n      <td>0.666667</td>\n      <td>1.000000</td>\n      <td>1.000000</td>\n      <td>0.0</td>\n      <td>0.0</td>\n      <td>0.333333</td>\n      <td>0.333333</td>\n      <td>1.0</td>\n      <td>1.0</td>\n    </tr>\n    <tr>\n      <th>2</th>\n      <td>1.0</td>\n      <td>0.0</td>\n      <td>0.0</td>\n      <td>0.2</td>\n      <td>0.8</td>\n      <td>0.2</td>\n      <td>1.0</td>\n      <td>0.2</td>\n      <td>0.0</td>\n      <td>1.0</td>\n      <td>...</td>\n      <td>0.666667</td>\n      <td>0.666667</td>\n      <td>1.000000</td>\n      <td>1.000000</td>\n      <td>0.0</td>\n      <td>0.0</td>\n      <td>0.333333</td>\n      <td>0.333333</td>\n      <td>1.0</td>\n      <td>1.0</td>\n    </tr>\n    <tr>\n      <th>3</th>\n      <td>1.0</td>\n      <td>0.0</td>\n      <td>1.0</td>\n      <td>0.2</td>\n      <td>0.0</td>\n      <td>0.2</td>\n      <td>0.8</td>\n      <td>0.2</td>\n      <td>1.0</td>\n      <td>1.0</td>\n      <td>...</td>\n      <td>0.666667</td>\n      <td>0.666667</td>\n      <td>0.000000</td>\n      <td>0.000000</td>\n      <td>0.0</td>\n      <td>0.0</td>\n      <td>0.333333</td>\n      <td>0.333333</td>\n      <td>1.0</td>\n      <td>1.0</td>\n    </tr>\n    <tr>\n      <th>4</th>\n      <td>0.0</td>\n      <td>0.0</td>\n      <td>1.0</td>\n      <td>0.2</td>\n      <td>0.8</td>\n      <td>0.2</td>\n      <td>1.0</td>\n      <td>0.2</td>\n      <td>0.0</td>\n      <td>1.0</td>\n      <td>...</td>\n      <td>0.333333</td>\n      <td>0.333333</td>\n      <td>0.666667</td>\n      <td>0.666667</td>\n      <td>0.0</td>\n      <td>0.0</td>\n      <td>0.333333</td>\n      <td>0.333333</td>\n      <td>1.0</td>\n      <td>1.0</td>\n    </tr>\n  </tbody>\n</table>\n<p>5 rows × 69 columns</p>\n</div>"
     },
     "execution_count": 507,
     "metadata": {},
     "output_type": "execute_result"
    }
   ],
   "source": [
    "# scaled_data = scaled_data.drop(scaled_data.columns[3:], axis=1)\n",
    "scaled_data.head()"
   ],
   "metadata": {
    "collapsed": false,
    "pycharm": {
     "name": "#%%\n"
    }
   }
  },
  {
   "cell_type": "code",
   "execution_count": 508,
   "outputs": [],
   "source": [
    "from sklearn.model_selection import train_test_split\n",
    "\n",
    "\n",
    "# X_train, X_test, Y_train, Y_test = train_test_split(data.drop(['choice'], axis=1),\n",
    "#                                                     data['choice'], train_size=0.9, test_size=0.1)\n",
    "# X_train, X_test, Y_train, Y_test = train_test_split(scaled_data.drop(scaled_data.columns[3:], axis=1),\n",
    "#                                                     data['choice'], train_size=0.9, test_size=0.1)\n",
    "X_train, X_test, Y_train, Y_test = train_test_split(scaled_data, data['choice'], train_size=0.9, test_size=0.1)"
   ],
   "metadata": {
    "collapsed": false,
    "pycharm": {
     "name": "#%%\n"
    }
   }
  },
  {
   "cell_type": "code",
   "execution_count": 509,
   "outputs": [
    {
     "data": {
      "text/plain": "RandomForestClassifier(n_estimators=200)"
     },
     "execution_count": 509,
     "metadata": {},
     "output_type": "execute_result"
    }
   ],
   "source": [
    "from sklearn.ensemble import RandomForestClassifier\n",
    "\n",
    "model = RandomForestClassifier(n_estimators=200, max_features='auto')\n",
    "model.fit(X_train, Y_train)"
   ],
   "metadata": {
    "collapsed": false,
    "pycharm": {
     "name": "#%%\n"
    }
   }
  },
  {
   "cell_type": "code",
   "execution_count": 499,
   "outputs": [
    {
     "name": "stdout",
     "output_type": "stream",
     "text": [
      "0.35964912280701755\n"
     ]
    }
   ],
   "source": [
    "results = model.predict(X_test)\n",
    "model_score = model.score(X_test, Y_test)\n",
    "print(model_score)"
   ],
   "metadata": {
    "collapsed": false,
    "pycharm": {
     "name": "#%%\n"
    }
   }
  },
  {
   "cell_type": "markdown",
   "source": [
    "\n",
    "\n",
    "\n",
    "\n"
   ],
   "metadata": {
    "collapsed": false,
    "pycharm": {
     "name": "#%% md\n"
    }
   }
  }
 ],
 "metadata": {
  "kernelspec": {
   "display_name": "Python 3",
   "language": "python",
   "name": "python3"
  },
  "language_info": {
   "codemirror_mode": {
    "name": "ipython",
    "version": 2
   },
   "file_extension": ".py",
   "mimetype": "text/x-python",
   "name": "python",
   "nbconvert_exporter": "python",
   "pygments_lexer": "ipython2",
   "version": "2.7.6"
  }
 },
 "nbformat": 4,
 "nbformat_minor": 0
}