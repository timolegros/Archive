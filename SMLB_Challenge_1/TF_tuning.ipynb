{
 "cells": [
  {
   "cell_type": "code",
   "execution_count": 19,
   "metadata": {
    "collapsed": true
   },
   "outputs": [],
   "source": [
    "from pandas import read_csv\n",
    "from sklearn.model_selection import train_test_split\n",
    "from sklearn.preprocessing import LabelEncoder\n",
    "from tensorflow.keras import Sequential\n",
    "from tensorflow.keras.layers import Dense\n",
    "import pandas as pd\n",
    "from kerastuner.tuners import BayesianOptimization, Hyperband\n",
    "from sklearn.preprocessing import MinMaxScaler"
   ]
  },
  {
   "cell_type": "code",
   "execution_count": 20,
   "outputs": [],
   "source": [
    "def replace_carType(carType):\n",
    "    try:\n",
    "        types = ['van', 'regcar', 'sportuv', 'sportcar', 'stwagon', 'truck']\n",
    "        return types.index(carType)\n",
    "    except ValueError:\n",
    "        return carType\n",
    "\n",
    "\n",
    "def replace_fuelType(fuelType):\n",
    "    try:\n",
    "        types = ['cng', 'methanol', 'electric', 'gasoline']\n",
    "        return types.index(fuelType)\n",
    "    except ValueError:\n",
    "        return fuelType"
   ],
   "metadata": {
    "collapsed": false,
    "pycharm": {
     "name": "#%%\n"
    }
   }
  },
  {
   "cell_type": "code",
   "execution_count": 21,
   "outputs": [],
   "source": [
    "path = 'trainingData.csv'\n",
    "df = read_csv(path)\n",
    "\n",
    "for col in df.columns[5:11]:\n",
    "    df[col] = df[col].apply(replace_carType)\n",
    "for col in df.columns[11:17]:\n",
    "    df[col] = df[col].apply(replace_fuelType)\n",
    "\n",
    "df.drop(['id'], axis=1, inplace=True)\n",
    "X, y = df.values[:, 1:], df.values[:, 0]\n",
    "\n",
    "X = X.astype('float32')\n",
    "y = LabelEncoder().fit_transform(y)"
   ],
   "metadata": {
    "collapsed": false,
    "pycharm": {
     "name": "#%%\n"
    }
   }
  },
  {
   "cell_type": "code",
   "execution_count": 22,
   "outputs": [],
   "source": [
    "scaler = MinMaxScaler()\n",
    "arr_scaled = scaler.fit_transform(X)\n",
    "X = pd.DataFrame(arr_scaled)\n",
    "\n",
    "X_train, X_test, y_train, y_test = train_test_split(X, y, test_size=0.33)\n",
    "\n",
    "n_features = X_train.shape[1]\n"
   ],
   "metadata": {
    "collapsed": false,
    "pycharm": {
     "name": "#%%\n"
    }
   }
  },
  {
   "cell_type": "code",
   "execution_count": 23,
   "outputs": [],
   "source": [
    "def create_model(hp):\n",
    "    model = Sequential()\n",
    "    for i in range(hp.Int('layers', 2, 15)):\n",
    "        model.add(Dense(units=hp.Int('units_' + str(i), min_value=10, max_value=512, step=16),\n",
    "                        activation=hp.Choice('act_' + str(i), ['relu', 'tanh', 'sigmoid']),\n",
    "                        kernel_initializer='he_normal', input_shape=(n_features,)))\n",
    "\n",
    "    model.add(Dense(6, activation='softmax'))\n",
    "\n",
    "    model.compile(optimizer='adam', loss='sparse_categorical_crossentropy', metrics=['accuracy'])\n",
    "\n",
    "    return model"
   ],
   "metadata": {
    "collapsed": false,
    "pycharm": {
     "name": "#%%\n"
    }
   }
  },
  {
   "cell_type": "code",
   "execution_count": 24,
   "outputs": [],
   "source": [
    "bayesian_tuner = BayesianOptimization(create_model, objective='val_accuracy', max_trials=1, project_name='BayesianOptimization')\n",
    "\n",
    "hyperBand_tuner = Hyperband(create_model, objective='val_accuracy', max_epochs=1, hyperband_iterations=2, project_name='Hyperband')"
   ],
   "metadata": {
    "collapsed": false,
    "pycharm": {
     "name": "#%%\n"
    }
   }
  },
  {
   "cell_type": "code",
   "execution_count": 25,
   "outputs": [
    {
     "name": "stdout",
     "output_type": "stream",
     "text": [
      "Search space summary\n",
      "Default search space size: 5\n",
      "layers (Int)\n",
      "{'default': None, 'conditions': [], 'min_value': 2, 'max_value': 15, 'step': 1, 'sampling': None}\n",
      "units_0 (Int)\n",
      "{'default': None, 'conditions': [], 'min_value': 10, 'max_value': 512, 'step': 16, 'sampling': None}\n",
      "act_0 (Choice)\n",
      "{'default': 'relu', 'conditions': [], 'values': ['relu', 'tanh', 'sigmoid'], 'ordered': False}\n",
      "units_1 (Int)\n",
      "{'default': None, 'conditions': [], 'min_value': 10, 'max_value': 512, 'step': 16, 'sampling': None}\n",
      "act_1 (Choice)\n",
      "{'default': 'relu', 'conditions': [], 'values': ['relu', 'tanh', 'sigmoid'], 'ordered': False}\n"
     ]
    }
   ],
   "source": [
    "bayesian_tuner.search_space_summary()"
   ],
   "metadata": {
    "collapsed": false,
    "pycharm": {
     "name": "#%%\n"
    }
   }
  },
  {
   "cell_type": "code",
   "execution_count": 26,
   "outputs": [
    {
     "name": "stdout",
     "output_type": "stream",
     "text": [
      "Search space summary\n",
      "Default search space size: 5\n",
      "layers (Int)\n",
      "{'default': None, 'conditions': [], 'min_value': 2, 'max_value': 15, 'step': 1, 'sampling': None}\n",
      "units_0 (Int)\n",
      "{'default': None, 'conditions': [], 'min_value': 10, 'max_value': 512, 'step': 16, 'sampling': None}\n",
      "act_0 (Choice)\n",
      "{'default': 'relu', 'conditions': [], 'values': ['relu', 'tanh', 'sigmoid'], 'ordered': False}\n",
      "units_1 (Int)\n",
      "{'default': None, 'conditions': [], 'min_value': 10, 'max_value': 512, 'step': 16, 'sampling': None}\n",
      "act_1 (Choice)\n",
      "{'default': 'relu', 'conditions': [], 'values': ['relu', 'tanh', 'sigmoid'], 'ordered': False}\n"
     ]
    }
   ],
   "source": [
    "hyperBand_tuner.search_space_summary()"
   ],
   "metadata": {
    "collapsed": false,
    "pycharm": {
     "name": "#%%\n"
    }
   }
  },
  {
   "cell_type": "code",
   "execution_count": 27,
   "outputs": [
    {
     "name": "stdout",
     "output_type": "stream",
     "text": [
      "Trial 1 Complete [00h 00m 26s]\n",
      "val_accuracy: 0.39387890696525574\n",
      "\n",
      "Best val_accuracy So Far: 0.39387890696525574\n",
      "Total elapsed time: 00h 00m 26s\n",
      "INFO:tensorflow:Oracle triggered exit\n"
     ]
    }
   ],
   "source": [
    "bayesian_tuner.search(X_train, y_train, epochs=40, validation_data=(X_test, y_test))"
   ],
   "metadata": {
    "collapsed": false,
    "pycharm": {
     "name": "#%%\n"
    }
   }
  },
  {
   "cell_type": "code",
   "execution_count": 28,
   "outputs": [
    {
     "name": "stdout",
     "output_type": "stream",
     "text": [
      "Results summary\n",
      "Results in .\\BayesianOptimization\n",
      "Showing 10 best trials\n",
      "Objective(name='val_accuracy', direction='max')\n",
      "Trial summary\n",
      "Hyperparameters:\n",
      "layers: 12\n",
      "units_0: 170\n",
      "act_0: sigmoid\n",
      "units_1: 378\n",
      "act_1: tanh\n",
      "units_2: 10\n",
      "act_2: relu\n",
      "units_3: 10\n",
      "act_3: relu\n",
      "units_4: 10\n",
      "act_4: relu\n",
      "units_5: 10\n",
      "act_5: relu\n",
      "units_6: 10\n",
      "act_6: relu\n",
      "units_7: 10\n",
      "act_7: relu\n",
      "units_8: 10\n",
      "act_8: relu\n",
      "units_9: 10\n",
      "act_9: relu\n",
      "units_10: 10\n",
      "act_10: relu\n",
      "units_11: 10\n",
      "act_11: relu\n",
      "Score: 0.39387890696525574\n"
     ]
    }
   ],
   "source": [
    "bayesian_tuner.results_summary()"
   ],
   "metadata": {
    "collapsed": false,
    "pycharm": {
     "name": "#%%\n"
    }
   }
  },
  {
   "cell_type": "code",
   "execution_count": 31,
   "outputs": [
    {
     "data": {
      "text/plain": "<tensorflow.python.keras.engine.sequential.Sequential at 0x1e185f42370>"
     },
     "execution_count": 31,
     "metadata": {},
     "output_type": "execute_result"
    }
   ],
   "source": [
    "bayesian_tuner.get_best_models(num_models=5)"
   ],
   "metadata": {
    "collapsed": false,
    "pycharm": {
     "name": "#%%\n"
    }
   }
  },
  {
   "cell_type": "code",
   "execution_count": 35,
   "outputs": [
    {
     "name": "stdout",
     "output_type": "stream",
     "text": [
      "{'layers': 12, 'units_0': 170, 'act_0': 'sigmoid', 'units_1': 378, 'act_1': 'tanh', 'units_2': 10, 'act_2': 'relu', 'units_3': 10, 'act_3': 'relu', 'units_4': 10, 'act_4': 'relu', 'units_5': 10, 'act_5': 'relu', 'units_6': 10, 'act_6': 'relu', 'units_7': 10, 'act_7': 'relu', 'units_8': 10, 'act_8': 'relu', 'units_9': 10, 'act_9': 'relu', 'units_10': 10, 'act_10': 'relu', 'units_11': 10, 'act_11': 'relu'} \n",
      "\n"
     ]
    }
   ],
   "source": [
    "best_param = bayesian_tuner.get_best_hyperparameters()[:5]\n",
    "\n",
    "for i in best_param:\n",
    "    print(i.values, '\\n')"
   ],
   "metadata": {
    "collapsed": false,
    "pycharm": {
     "name": "#%%\n"
    }
   }
  }
 ],
 "metadata": {
  "kernelspec": {
   "display_name": "Python 3",
   "language": "python",
   "name": "python3"
  },
  "language_info": {
   "codemirror_mode": {
    "name": "ipython",
    "version": 2
   },
   "file_extension": ".py",
   "mimetype": "text/x-python",
   "name": "python",
   "nbconvert_exporter": "python",
   "pygments_lexer": "ipython2",
   "version": "2.7.6"
  }
 },
 "nbformat": 4,
 "nbformat_minor": 0
}